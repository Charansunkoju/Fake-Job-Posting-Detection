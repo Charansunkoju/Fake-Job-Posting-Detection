{
  "nbformat": 4,
  "nbformat_minor": 0,
  "metadata": {
    "colab": {
      "provenance": []
    },
    "kernelspec": {
      "name": "python3",
      "display_name": "Python 3"
    },
    "language_info": {
      "name": "python"
    }
  },
  "cells": [
    {
      "cell_type": "code",
      "source": [
        "import pandas as pd\n",
        "import re\n",
        "from collections import Counter\n",
        "from scipy.stats import chi2_contingency"
      ],
      "metadata": {
        "id": "K0zLjKdGhZaV"
      },
      "execution_count": 4,
      "outputs": []
    },
    {
      "cell_type": "code",
      "source": [
        "df = pd.read_csv(\"/content/Job_posting_Fake_Detection.csv\",engine=\"python\")"
      ],
      "metadata": {
        "id": "6_swb11dheLy"
      },
      "execution_count": 3,
      "outputs": []
    },
    {
      "cell_type": "code",
      "execution_count": 5,
      "metadata": {
        "id": "Set8OrHGhC0B"
      },
      "outputs": [],
      "source": [
        "# Define a list of common buzzwords\n",
        "buzzwords = [\"urgent\", \"limited\", \"exclusive\", \"guaranteed\", \"earn\", \"apply now\", \"immediate\", \"hiring fast\"]"
      ]
    },
    {
      "cell_type": "code",
      "source": [
        "# Preprocess text function\n",
        "def preprocess_text(text):\n",
        "    text = str(text).lower()  # Convert to lowercase\n",
        "    text = re.sub(r'\\W+', ' ', text)  # Remove special characters\n",
        "    words = text.split()  # Tokenization\n",
        "    return words"
      ],
      "metadata": {
        "id": "6Xg6OKzlkgNQ"
      },
      "execution_count": 6,
      "outputs": []
    },
    {
      "cell_type": "code",
      "source": [
        "# Separate fake and real job postings\n",
        "fake_posts = df[df[\"fraudulent\"] == \"Fake\"][\"description\"].dropna().apply(preprocess_text)\n",
        "real_posts = df[df[\"fraudulent\"] == \"Real\"][\"description\"].dropna().apply(preprocess_text)"
      ],
      "metadata": {
        "id": "jG6cO4_4kgPd"
      },
      "execution_count": 7,
      "outputs": []
    },
    {
      "cell_type": "code",
      "source": [
        "# Count buzzword occurrences in each category\n",
        "fake_word_counts = Counter(word for post in fake_posts for word in post if word in buzzwords)\n",
        "real_word_counts = Counter(word for post in real_posts for word in post if word in buzzwords)"
      ],
      "metadata": {
        "id": "EEvR7ltfkgR7"
      },
      "execution_count": 8,
      "outputs": []
    },
    {
      "cell_type": "code",
      "source": [
        "# Create a DataFrame for chi-square test\n",
        "buzzword_df = pd.DataFrame({\"Fake\": fake_word_counts, \"Real\": real_word_counts}).fillna(0).astype(int)"
      ],
      "metadata": {
        "id": "QKa_hedVkgT8"
      },
      "execution_count": 9,
      "outputs": []
    },
    {
      "cell_type": "code",
      "source": [
        "# Perform chi-square test\n",
        "chi2_stat, p_value, dof, expected = chi2_contingency(buzzword_df)"
      ],
      "metadata": {
        "id": "UzfeWYIzkgWm"
      },
      "execution_count": 10,
      "outputs": []
    },
    {
      "cell_type": "code",
      "source": [
        "# Print results\n",
        "print(\"Word Frequency Analysis:\\n\", buzzword_df)\n",
        "print(\"\\nChi-square Statistic:\", chi2_stat)\n",
        "print(\"p-value:\", p_value)"
      ],
      "metadata": {
        "colab": {
          "base_uri": "https://localhost:8080/"
        },
        "id": "CHh-F7brkgZ5",
        "outputId": "6a601657-9830-4d01-9afb-410ecca3584b"
      },
      "execution_count": 11,
      "outputs": [
        {
          "output_type": "stream",
          "name": "stdout",
          "text": [
            "Word Frequency Analysis:\n",
            "             Fake  Real\n",
            "limited       75  1137\n",
            "earn          81   227\n",
            "immediate     29   366\n",
            "exclusive      6    75\n",
            "guaranteed    10    59\n",
            "urgent         9   292\n",
            "\n",
            "Chi-square Statistic: 143.37276581619372\n",
            "p-value: 3.4322075969473665e-29\n"
          ]
        }
      ]
    },
    {
      "cell_type": "code",
      "source": [
        "# Interpretation\n",
        "if p_value < 0.05:\n",
        "    print(\"\\nConclusion: Fake job postings use certain buzzwords much more often than real ones\")\n",
        "else:\n",
        "    print(\"\\nConclusion: No significant difference found in buzzword usage between fake and real postings.\")"
      ],
      "metadata": {
        "colab": {
          "base_uri": "https://localhost:8080/"
        },
        "id": "A8epVBXbkxdu",
        "outputId": "1053ffd2-8ae6-413d-f79a-c58ec04b107a"
      },
      "execution_count": 13,
      "outputs": [
        {
          "output_type": "stream",
          "name": "stdout",
          "text": [
            "\n",
            "Conclusion: Fake job postings use certain buzzwords much more often than real ones\n"
          ]
        }
      ]
    }
  ]
}